{
 "cells": [
  {
   "cell_type": "code",
   "execution_count": 2,
   "metadata": {},
   "outputs": [
    {
     "name": "stderr",
     "output_type": "stream",
     "text": [
      "\u001b[1m\u001b[36mINFO: \u001b[39m\u001b[22m\u001b[36mRecompiling stale cache file /home/rdeits/.julia/lib/v0.6/ConditionalJuMP.ji for module ConditionalJuMP.\n",
      "\u001b[39m"
     ]
    }
   ],
   "source": [
    "using JuMP\n",
    "using ConditionalJuMP\n",
    "using Gurobi"
   ]
  },
  {
   "cell_type": "code",
   "execution_count": 10,
   "metadata": {},
   "outputs": [
    {
     "data": {
      "text/plain": [
       "optimize (generic function with 2 methods)"
      ]
     },
     "execution_count": 10,
     "metadata": {},
     "output_type": "execute_result"
    }
   ],
   "source": [
    "Δt_bounds = (0, 0.1)\n",
    "f_bounds = (0, 20)\n",
    "q_bounds = (0, 10)\n",
    "v_bounds = (-100, 100)\n",
    "mass = 1.0\n",
    "g = -9.81\n",
    "\n",
    "struct Result\n",
    "    x\n",
    "    Δt\n",
    "    fΔt\n",
    "end\n",
    "\n",
    "JuMP.getvalue(r::Result) = Result(getvalue(r.x), getvalue(r.Δt), getvalue(r.fΔt))\n",
    "\n",
    "function update(x, model::Model)\n",
    "    Δt = @variable(model, basename=\"Δt\",\n",
    "        lowerbound=Δt_bounds[1], upperbound=Δt_bounds[2])\n",
    "    fΔt = @variable(model, basename=\"fΔt\",\n",
    "        lowerbound=f_bounds[1] * Δt_bounds[1], upperbound=f_bounds[2] * Δt_bounds[2])\n",
    "    qnext = @variable(model, basename=\"q\",\n",
    "        lowerbound=q_bounds[1], upperbound=q_bounds[2])\n",
    "    vnext = @variable(model, basename=\"v\",\n",
    "        lowerbound=v_bounds[1], upperbound=v_bounds[2])\n",
    "    \n",
    "    @disjunction(model, (qnext == 0), (fΔt == 0))\n",
    "    \n",
    "    total_impulse = fΔt + mass * g * Δt\n",
    "    \n",
    "    @constraints model begin\n",
    "        (qnext - x[1]) == vnext * Δt # problem is here, since vnext and dt are decision variables\n",
    "        mass * (vnext - x[2]) == total_impulse\n",
    "    end\n",
    "    Result([qnext, vnext], Δt, fΔt)\n",
    "end\n",
    "    \n",
    "function optimize(x0, N, model=Model(solver=GurobiSolver(OutputFlag=0)))\n",
    "    results = []\n",
    "    x = x0\n",
    "    for i in 1:N\n",
    "        push!(results, update(x, model))\n",
    "        x = results[end].x\n",
    "    end\n",
    "    results, model\n",
    "end"
   ]
  },
  {
   "cell_type": "code",
   "execution_count": null,
   "metadata": {
    "collapsed": true
   },
   "outputs": [],
   "source": [
    "x0 = [1.0, 0.0]\n",
    "\n",
    "results, model = optimize(x0, 20)\n",
    "solve(model)"
   ]
  }
 ],
 "metadata": {
  "kernelspec": {
   "display_name": "Julia 0.6.1",
   "language": "julia",
   "name": "julia-0.6"
  },
  "language_info": {
   "file_extension": ".jl",
   "mimetype": "application/julia",
   "name": "julia",
   "version": "0.6.1"
  }
 },
 "nbformat": 4,
 "nbformat_minor": 2
}
